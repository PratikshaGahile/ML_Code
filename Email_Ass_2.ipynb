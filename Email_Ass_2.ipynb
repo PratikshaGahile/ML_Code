{
  "nbformat": 4,
  "nbformat_minor": 0,
  "metadata": {
    "colab": {
      "provenance": []
    },
    "kernelspec": {
      "name": "python3",
      "display_name": "Python 3"
    },
    "language_info": {
      "name": "python"
    }
  },
  "cells": [
    {
      "cell_type": "code",
      "execution_count": null,
      "metadata": {
        "id": "4aEs4q4PzqJ-"
      },
      "outputs": [],
      "source": [
        "#******* ASSIGNMENT 2 **********\n",
        "# Dataset : emails.csv\n",
        "# Classify the email using the binary classification method. Email Spam detection has two\n",
        "# states: a) Normal State – Not Spam, b) Abnormal State – Spam. Use K-Nearest Neighbors and\n",
        "# Support Vector Machine for classification. Analyze their performance.\n",
        "import pandas as pd\n",
        "import numpy as np\n",
        "from sklearn.model_selection import train_test_split\n",
        "from sklearn.svm import SVC\n",
        "from sklearn.neighbors import KNeighborsClassifier\n",
        "from sklearn import metrics\n",
        "\n",
        "df = pd.read_csv('/content/emails.csv')\n",
        "\n",
        "df.shape\n",
        "\n",
        "df.isnull().any()\n",
        "\n",
        "df.drop(columns=['Email No.'], inplace = True)\n",
        "\n",
        "\n",
        "df.Prediction.unique()\n",
        "\n",
        "df['Prediction']=df['Prediction'].replace({0:'not spam', 1:'spam'})\n",
        "\n",
        "# KNN\n",
        "\n",
        "x=df.drop(columns=['Prediction'],axis=1)\n",
        "y=df['Prediction']\n",
        "\n",
        "x_train,x_test,y_train,y_test = train_test_split(x, y, test_size=0.2,random_state=42)\n",
        "\n",
        "knn=KNeighborsClassifier(n_neighbors=7)\n",
        "\n",
        "knn.fit(x_train, y_train)\n",
        "\n",
        "y_pred=knn.predict(x_test)\n",
        "\n",
        "print(\"Prediction\\n\",y_pred)\n",
        "\n",
        "# Accuracy\n",
        "\n",
        "print(\"KNN Accuracy: \",metrics.accuracy_score(y_test,y_pred))\n",
        "\n",
        "\n",
        "# Confusion Matrix\n",
        "\n",
        "print(\"Confusion Matrix:\\n \",metrics.confusion_matrix(y_test, y_pred))\n",
        "\n",
        "# SVM Classifier\n",
        "\n",
        "svm=SVC(kernel='linear')\n",
        "\n",
        "svm.fit(x_train,y_train)\n",
        "\n",
        "svm_pred=svm.predict(x_test)\n",
        "\n",
        "print(\"SVM Prediction : \\n\",svm_pred)\n",
        "\n",
        "# Accuracy\n",
        "\n",
        "print(\"SVM Accuracy: \\n\",metrics.accuracy_score(y_test, svm_pred))\n",
        "\n",
        "# Confusion Matrix\n",
        "\n",
        "print(\"Confusion Matrix:\\n \",metrics.confusion_matrix(y_test, svm_pred))"
      ]
    }
  ]
}