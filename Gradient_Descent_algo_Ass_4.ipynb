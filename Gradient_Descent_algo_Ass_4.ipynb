{
  "nbformat": 4,
  "nbformat_minor": 0,
  "metadata": {
    "colab": {
      "provenance": []
    },
    "kernelspec": {
      "name": "python3",
      "display_name": "Python 3"
    },
    "language_info": {
      "name": "python"
    }
  },
  "cells": [
    {
      "cell_type": "code",
      "execution_count": null,
      "metadata": {
        "id": "s6CxkBPL0Ety"
      },
      "outputs": [],
      "source": [
        "#******* ASSIGNMENT 4 **********\n",
        "# Dataset : diabetes.csv\n",
        "# Implement Gradient Descent Algorithm to find the local minima of a function\n",
        "import numpy as np\n",
        "import matplotlib.pyplot as plt\n",
        "\n",
        "def f(x):\n",
        "    return (x + 3) ** 2\n",
        "\n",
        "def df(x):\n",
        "    return 2 * (x + 3)\n",
        "\n",
        "def gradient_descent(initial, rate, iterations):\n",
        "    x = initial\n",
        "    history = [x]\n",
        "\n",
        "    for i in range(iterations):\n",
        "        gradient = df(x)\n",
        "        x = x - rate * gradient\n",
        "        history.append(x)\n",
        "\n",
        "    return x, history\n",
        "\n",
        "initial = 0\n",
        "rate = 0.1\n",
        "iterations = 50\n",
        "\n",
        "x, history = gradient_descent(initial, rate, iterations)\n",
        "\n",
        "print(\"Local minimum: {:.2f}\".format(x))\n",
        "\n",
        "values = np.linspace(-10, 4, 100)\n",
        "\n",
        "plt.plot(values, f(values))\n",
        "plt.plot(history, f(np.array(history)), 'rx')\n",
        "\n",
        "plt.xlabel('x')\n",
        "plt.ylabel('f(x)')\n",
        "plt.title('Gradient Descent')\n",
        "\n",
        "plt.show()"
      ]
    }
  ]
}